{
 "cells": [
  {
   "cell_type": "code",
   "execution_count": null,
   "id": "5eec931d-5268-47cf-bc2a-636f51621da8",
   "metadata": {
    "tags": []
   },
   "outputs": [],
   "source": [
    "from qcrypt.hardware import laser"
   ]
  },
  {
   "cell_type": "code",
   "execution_count": null,
   "id": "83508c57-b6c0-43de-b552-15c12d612a7d",
   "metadata": {},
   "outputs": [],
   "source": [
    "# initialize with default values.\n",
    "alice_laser = laser.Laser()\n",
    "alice_laser.trigger()"
   ]
  },
  {
   "cell_type": "code",
   "execution_count": null,
   "id": "f4630753-9246-4399-a4e4-22195f15eebf",
   "metadata": {},
   "outputs": [],
   "source": [
    "# or be specific:\n",
    "bob_laser = laser.Laser(\n",
    "    username=\"bob\",\n",
    "    relay_id=2,\n",
    "    delay_in_seconds=0.2,\n",
    "    mqtt_broker_ip=\"localhost\",\n",
    ")\n",
    "bob_laser.trigger()"
   ]
  },
  {
   "cell_type": "code",
   "execution_count": null,
   "id": "2b19fae8-6ac7-496e-b475-13fc34ca3c48",
   "metadata": {},
   "outputs": [],
   "source": [
    "import ipywidgets as widgets\n",
    "from IPython.display import display\n",
    "\n",
    "button = widgets.Button(description=\"fire lasers1!\")\n",
    "output = widgets.Output()\n",
    "\n",
    "display(button, output)\n",
    "\n",
    "\n",
    "def on_button_clicked(b):\n",
    "    with output:\n",
    "        alice_laser.trigger()\n",
    "        bob_laser.trigger()\n",
    "\n",
    "\n",
    "button.on_click(on_button_clicked)"
   ]
  }
 ],
 "metadata": {
  "kernelspec": {
   "display_name": "Python 3",
   "language": "python",
   "name": "python3"
  },
  "language_info": {
   "codemirror_mode": {
    "name": "ipython",
    "version": 3
   },
   "file_extension": ".py",
   "mimetype": "text/x-python",
   "name": "python",
   "nbconvert_exporter": "python",
   "pygments_lexer": "ipython3",
   "version": "3.9.5"
  }
 },
 "nbformat": 4,
 "nbformat_minor": 5
}
