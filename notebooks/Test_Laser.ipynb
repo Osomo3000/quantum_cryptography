{
 "cells": [
  {
   "cell_type": "code",
   "execution_count": null,
   "id": "5eec931d-5268-47cf-bc2a-636f51621da8",
   "metadata": {
    "tags": []
   },
   "outputs": [],
   "source": [
    "from qcrypt.hardware.laser import Laser"
   ]
  },
  {
   "cell_type": "code",
   "execution_count": null,
   "id": "83508c57-b6c0-43de-b552-15c12d612a7d",
   "metadata": {},
   "outputs": [],
   "source": [
    "# initialize with default values:\n",
    "alice_laser = Laser()\n",
    "alice_laser.trigger()"
   ]
  },
  {
   "cell_type": "code",
   "execution_count": null,
   "id": "7249cdfc-0cc2-43db-a531-903e3f828cb4",
   "metadata": {},
   "outputs": [],
   "source": [
    "# show default values:\n",
    "print(\"username:\\t\\t\", alice_laser.username)\n",
    "print(\"relay_id:\\t\\t\", alice_laser.relay_id)\n",
    "print(\"delay_in_seconds:\\t\", alice_laser.delay_in_seconds)\n",
    "print(\"mqtt_broker_ip:\\t\\t\", alice_laser.mqtt_broker_ip)\n",
    "print(\"log_level:\\t\\t\", alice_laser.log_level)"
   ]
  },
  {
   "cell_type": "code",
   "execution_count": null,
   "id": "f4630753-9246-4399-a4e4-22195f15eebf",
   "metadata": {},
   "outputs": [],
   "source": [
    "# or be specific:\n",
    "eve_laser = Laser(\n",
    "    username=\"eve\",\n",
    "    relay_id=2,\n",
    "    delay_in_seconds=0.2,\n",
    "    mqtt_broker_ip=\"localhost\",\n",
    "    log_level=\"DEBUG\",\n",
    ")\n",
    "eve_laser.trigger()"
   ]
  },
  {
   "cell_type": "markdown",
   "id": "b94d7618-416d-4d44-88af-9663fe6b2922",
   "metadata": {},
   "source": [
    "|log level|used for|\n",
    "|---|---|\n",
    "|DEBUG|very detailed output for diagnostics|\n",
    "|INFO|event occured during normal operation|\n",
    "|WARNING|something unexpected happened|\n",
    "|ERROR|failed to perform some function|\n",
    "|CRITICAL|program might be unusable from now on|"
   ]
  },
  {
   "cell_type": "code",
   "execution_count": null,
   "id": "2b19fae8-6ac7-496e-b475-13fc34ca3c48",
   "metadata": {},
   "outputs": [],
   "source": [
    "import ipywidgets as widgets\n",
    "from IPython.display import display\n",
    "\n",
    "button = widgets.Button(description=\"fire lasers!\")\n",
    "output = widgets.Output()\n",
    "\n",
    "display(button, output)\n",
    "\n",
    "\n",
    "def on_button_clicked(b):\n",
    "    with output:\n",
    "        alice_laser.trigger()\n",
    "        eve_laser.trigger()\n",
    "\n",
    "\n",
    "button.on_click(on_button_clicked)"
   ]
  }
 ],
 "metadata": {
  "kernelspec": {
   "display_name": "Python 3",
   "language": "python",
   "name": "python3"
  },
  "language_info": {
   "codemirror_mode": {
    "name": "ipython",
    "version": 3
   },
   "file_extension": ".py",
   "mimetype": "text/x-python",
   "name": "python",
   "nbconvert_exporter": "python",
   "pygments_lexer": "ipython3",
   "version": "3.9.5"
  }
 },
 "nbformat": 4,
 "nbformat_minor": 5
}
