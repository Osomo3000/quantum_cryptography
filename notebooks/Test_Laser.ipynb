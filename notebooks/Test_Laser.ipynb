{
 "cells": [
  {
   "cell_type": "code",
   "execution_count": null,
   "id": "4dba4535-b06a-45e6-a800-3081fd274ce1",
   "metadata": {
    "tags": []
   },
   "outputs": [],
   "source": [
    "from qcrypt.hardware import laser"
   ]
  },
  {
   "cell_type": "code",
   "execution_count": null,
   "id": "75433d93-2d77-45ea-98a0-d4ecea7a3757",
   "metadata": {},
   "outputs": [],
   "source": [
    "laser.hello()"
   ]
  },
  {
   "cell_type": "code",
   "execution_count": null,
   "id": "b9fa8e99-1b85-4e3e-bb36-bd878845224c",
   "metadata": {},
   "outputs": [],
   "source": [
    "laser.trigger()"
   ]
  },
  {
   "cell_type": "code",
   "execution_count": null,
   "id": "2b19fae8-6ac7-496e-b475-13fc34ca3c48",
   "metadata": {},
   "outputs": [],
   "source": [
    "import ipywidgets as widgets\n",
    "from IPython.display import display\n",
    "\n",
    "button = widgets.Button(description=\"trigger laser!\")\n",
    "output = widgets.Output()\n",
    "\n",
    "display(button, output)\n",
    "\n",
    "\n",
    "def on_button_clicked(b):\n",
    "    with output:\n",
    "        laser.trigger()\n",
    "\n",
    "\n",
    "button.on_click(on_button_clicked)"
   ]
  }
 ],
 "metadata": {
  "kernelspec": {
   "display_name": "Python 3",
   "language": "python",
   "name": "python3"
  },
  "language_info": {
   "codemirror_mode": {
    "name": "ipython",
    "version": 3
   },
   "file_extension": ".py",
   "mimetype": "text/x-python",
   "name": "python",
   "nbconvert_exporter": "python",
   "pygments_lexer": "ipython3",
   "version": "3.9.5"
  }
 },
 "nbformat": 4,
 "nbformat_minor": 5
}
