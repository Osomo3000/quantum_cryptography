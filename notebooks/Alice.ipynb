{
 "cells": [
  {
   "cell_type": "markdown",
   "id": "003a5a84-0c6e-48bf-8e56-e128cd4f3954",
   "metadata": {},
   "source": [
    "# Alice\n",
    "\n",
    "* Alice wants to send a message to Bob.\n",
    "* She can communicate with Bob over an unsecure, classical channel.\n",
    "* They can also communicate over a quantum channel."
   ]
  },
  {
   "cell_type": "markdown",
   "id": "127a705b-6788-4d81-848d-cb7f8d31d29e",
   "metadata": {},
   "source": [
    "# setup\n",
    "\n",
    "* read input from user\n",
    "* calculate number of required bits to exchange\n",
    "* send it to Bob"
   ]
  },
  {
   "cell_type": "code",
   "execution_count": null,
   "id": "d8c213cc-7bd3-4d74-8af2-9dd3b7041b19",
   "metadata": {
    "tags": []
   },
   "outputs": [],
   "source": [
    "import paho.mqtt.client as mqtt\n",
    "import json\n",
    "\n",
    "mqtt_broker_ip = \"broker.emqx.io\"\n",
    "channel = \"quantum_cryptography/classical_channel\"\n",
    "\n",
    "client = mqtt.Client()\n",
    "client.connect(mqtt_broker_ip, 1883, 60)\n",
    "\n",
    "message = input()\n",
    "\n",
    "key_length = len(message.encode(\"utf-8\")) * 8\n",
    "safety_factor = 2\n",
    "\n",
    "setup_data = {\"bits_to_exchange\": key_length * safety_factor}\n",
    "payload = json.dumps(setup_data)\n",
    "\n",
    "print(payload)\n",
    "client.publish(channel, payload=payload)"
   ]
  },
  {
   "cell_type": "markdown",
   "id": "70b010d7-21e4-48e8-bca6-027f70238318",
   "metadata": {},
   "source": [
    "* convert user input to bits:"
   ]
  },
  {
   "cell_type": "code",
   "execution_count": null,
   "id": "b58cc6c6-e60d-4ba9-afc3-0465bae83b81",
   "metadata": {},
   "outputs": [],
   "source": [
    "message_bits = \"\"\n",
    "\n",
    "for i, c in enumerate(message):\n",
    "    o = ord(c)\n",
    "    bits = \"\".join(format(o, \"b\"))\n",
    "    message_bits += bits\n",
    "    print(c, o, bits, sep=\"\\t\")\n",
    "\n",
    "print(\"\\nthe message in binary is:\")\n",
    "\n",
    "for bit in message_bits:\n",
    "    print(bit, end=\"\")"
   ]
  },
  {
   "cell_type": "markdown",
   "id": "90bc0bea-e29a-4dbd-88d1-53434fe6c601",
   "metadata": {},
   "source": [
    "* generate the bits for the future secret key:"
   ]
  },
  {
   "cell_type": "code",
   "execution_count": null,
   "id": "4fec522e-69eb-4ab7-a01e-b83a3d343e70",
   "metadata": {},
   "outputs": [],
   "source": [
    "from random import choice\n",
    "\n",
    "potential_secret_key = \"\"\n",
    "for _ in range(setup_data[\"bits_to_exchange\"]):\n",
    "    potential_secret_key += choice([\"0\", \"1\"])\n",
    "\n",
    "print(f\"potential_secret_key:\\n{potential_secret_key}\")"
   ]
  },
  {
   "cell_type": "markdown",
   "id": "2d5ba022-bcb6-4603-8095-3e677acd1e6d",
   "metadata": {},
   "source": [
    "## create list of random bases"
   ]
  },
  {
   "cell_type": "code",
   "execution_count": null,
   "id": "463690aa-4480-421e-b26f-4df541d2d03e",
   "metadata": {},
   "outputs": [],
   "source": [
    "from enum import Enum\n",
    "from random import choice\n",
    "\n",
    "\n",
    "class Basis(Enum):\n",
    "    # 0° | or _ 90°:\n",
    "    HV = 0\n",
    "    # -45° \\ or 45° /:\n",
    "    LR = 1\n",
    "\n",
    "\n",
    "bases = list()\n",
    "\n",
    "for i in range(setup_data[\"bits_to_exchange\"]):\n",
    "    bases.append(choice(list(Basis)))\n",
    "\n",
    "for i, b in enumerate(bases):\n",
    "    print(i, b, sep=\"\\t\")"
   ]
  },
  {
   "cell_type": "markdown",
   "id": "5652d7da-10fe-4850-bc3d-a4f56d40e51a",
   "metadata": {},
   "source": [
    "# quantum channel"
   ]
  },
  {
   "cell_type": "code",
   "execution_count": null,
   "id": "d374b617-d70a-4463-a20b-b9a73f4d8966",
   "metadata": {
    "tags": []
   },
   "outputs": [],
   "source": [
    "from time import sleep\n",
    "from qcrypt.hardware.filterwheel import Filterwheel, Orientation\n",
    "from qcrypt.hardware.laser import Laser\n",
    "\n",
    "broker = \"broker.emqx.io\"\n",
    "\n",
    "filterwheel = Filterwheel(\n",
    "    username=\"Alice\", mqtt_broker_ip=broker, dir_pin=17, step_pin=18\n",
    ")\n",
    "laser = Laser(username=\"Alice\", mqtt_broker_ip=broker)"
   ]
  },
  {
   "cell_type": "code",
   "execution_count": null,
   "id": "8c398edb-22c3-4b6b-9483-2fbc32a1e009",
   "metadata": {
    "tags": []
   },
   "outputs": [],
   "source": [
    "filterwheel.rotate_to(Orientation.VERTICAL)"
   ]
  },
  {
   "cell_type": "code",
   "execution_count": null,
   "id": "40e12da6-1288-4893-825f-0d37569a9a98",
   "metadata": {
    "tags": []
   },
   "outputs": [],
   "source": [
    "filterwheel.rotate_to(Orientation.RIGHT)"
   ]
  },
  {
   "cell_type": "code",
   "execution_count": null,
   "id": "fe3edd86-12f8-4544-a965-ab2de2ef8cc9",
   "metadata": {
    "tags": []
   },
   "outputs": [],
   "source": [
    "filterwheel.rotate_to(Orientation.HORIZONTAL)"
   ]
  },
  {
   "cell_type": "code",
   "execution_count": null,
   "id": "66311645-5c70-47c3-a715-3a6147869a81",
   "metadata": {
    "tags": []
   },
   "outputs": [],
   "source": [
    "filterwheel.rotate_to(Orientation.LEFT)"
   ]
  },
  {
   "cell_type": "code",
   "execution_count": null,
   "id": "215a8b89-0062-46bd-bb0d-697197ea6c4e",
   "metadata": {
    "tags": []
   },
   "outputs": [],
   "source": [
    "laser.trigger()"
   ]
  }
 ],
 "metadata": {
  "kernelspec": {
   "display_name": "Python 3",
   "language": "python",
   "name": "python3"
  },
  "language_info": {
   "codemirror_mode": {
    "name": "ipython",
    "version": 3
   },
   "file_extension": ".py",
   "mimetype": "text/x-python",
   "name": "python",
   "nbconvert_exporter": "python",
   "pygments_lexer": "ipython3",
   "version": "3.9.5"
  }
 },
 "nbformat": 4,
 "nbformat_minor": 5
}
