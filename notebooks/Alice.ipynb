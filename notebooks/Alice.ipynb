{
 "cells": [
  {
   "cell_type": "markdown",
   "id": "003a5a84-0c6e-48bf-8e56-e128cd4f3954",
   "metadata": {},
   "source": [
    "# Alice"
   ]
  },
  {
   "cell_type": "code",
   "execution_count": null,
   "id": "d4fa75f7",
   "metadata": {
    "tags": []
   },
   "outputs": [],
   "source": [
    "# Raspberry Pi exclusive imports:\n",
    "from relay_lib_seeed import *"
   ]
  },
  {
   "cell_type": "code",
   "execution_count": null,
   "id": "dbcfe171-8253-4158-9650-f8f766b2e66c",
   "metadata": {
    "tags": []
   },
   "outputs": [],
   "source": [
    "# server = \"broker.emqx.io\"\n",
    "mqtt_broker_ip = \"localhost\"\n",
    "\n",
    "channel = \"quantum_cryptography/classical_channel\"\n",
    "\n",
    "import paho.mqtt.client as mqtt\n",
    "\n",
    "# The callback for when the client receives a CONNACK response from the server.\n",
    "def on_connect(client, userdata, flags, rc):\n",
    "    print(\"Connected with result code \" + str(rc))\n",
    "\n",
    "\n",
    "def on_publish(client, userdata, result):\n",
    "    print(\"message published\")\n",
    "\n",
    "\n",
    "client = mqtt.Client()\n",
    "client.on_connect = on_connect\n",
    "client.on_publish = on_publish\n",
    "\n",
    "client.connect(mqtt_broker_ip, 1883, 60)"
   ]
  },
  {
   "cell_type": "code",
   "execution_count": null,
   "id": "77cf68ea-ec1f-4382-9594-e0585e5fb162",
   "metadata": {},
   "outputs": [],
   "source": [
    "plaintext = input()\n",
    "_ = client.publish(channel, payload=plaintext, qos=0, retain=False)"
   ]
  }
 ],
 "metadata": {
  "kernelspec": {
   "display_name": "Python 3",
   "language": "python",
   "name": "python3"
  },
  "language_info": {
   "codemirror_mode": {
    "name": "ipython",
    "version": 3
   },
   "file_extension": ".py",
   "mimetype": "text/x-python",
   "name": "python",
   "nbconvert_exporter": "python",
   "pygments_lexer": "ipython3",
   "version": "3.9.5"
  }
 },
 "nbformat": 4,
 "nbformat_minor": 5
}
