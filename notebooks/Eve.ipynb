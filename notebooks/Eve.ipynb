{
 "cells": [
  {
   "cell_type": "markdown",
   "id": "d8ee4a60-e6fa-402a-9012-9b31747ef94c",
   "metadata": {},
   "source": [
    "# Eve\n",
    "\n",
    "* Eve would like to eavesdrop on Alice and Bob.\n",
    "* She can freely read the classical channel."
   ]
  },
  {
   "cell_type": "markdown",
   "id": "b09faaec-a590-4ace-ad08-8d1fd760acbe",
   "metadata": {},
   "source": [
    "## Eavesdropping the classical channel"
   ]
  },
  {
   "cell_type": "code",
   "execution_count": null,
   "id": "4fe48607-1653-43ad-8cee-312351056e4f",
   "metadata": {},
   "outputs": [],
   "source": [
    "# server = \"broker.emqx.io\"  # fallback server.\n",
    "mqtt_broker_ip = \"broker.emqx.io\"\n",
    "\n",
    "channel = \"quantum_cryptography/classical_channel/#\"\n",
    "\n",
    "import paho.mqtt.client as mqtt\n",
    "\n",
    "# The callback for when the client receives a CONNACK response from the server.\n",
    "def on_connect(client, userdata, flags, rc):\n",
    "    print(\"Connected with result code \" + str(rc))\n",
    "\n",
    "    # Subscribing in on_connect() means that if we lose the connection and\n",
    "    # reconnect then subscriptions will be renewed.\n",
    "    client.subscribe(channel)\n",
    "\n",
    "\n",
    "# The callback for when a PUBLISH message is received from the server.\n",
    "def on_message(client, userdata, msg):\n",
    "    print(\"received:\\t\" + msg.topic + \" \" + str(msg.payload))\n",
    "\n",
    "\n",
    "client = mqtt.Client()\n",
    "client.on_connect = on_connect\n",
    "client.on_message = on_message\n",
    "\n",
    "client.connect(mqtt_broker_ip, 1883, 60)"
   ]
  },
  {
   "cell_type": "markdown",
   "id": "545b7db6-2268-4547-8d26-f554f428b72d",
   "metadata": {},
   "source": [
    "**Step 0**: Eve eavesdrops the conversation that is happening between Alice and Bob on the classical, unsecured channel."
   ]
  },
  {
   "cell_type": "code",
   "execution_count": null,
   "id": "e7c5579b-e94a-4c28-ac6c-3e4c252e2cae",
   "metadata": {},
   "outputs": [],
   "source": [
    "client.loop_forever()"
   ]
  },
  {
   "cell_type": "markdown",
   "id": "98b4b893-9d12-4a6e-baec-5c601bd8c584",
   "metadata": {},
   "source": [
    "Eve is able to read the entire conversation because it is happening over an unencrypted channel."
   ]
  }
 ],
 "metadata": {
  "kernelspec": {
   "display_name": "Python 3",
   "language": "python",
   "name": "python3"
  },
  "language_info": {
   "codemirror_mode": {
    "name": "ipython",
    "version": 3
   },
   "file_extension": ".py",
   "mimetype": "text/x-python",
   "name": "python",
   "nbconvert_exporter": "python",
   "pygments_lexer": "ipython3",
   "version": "3.9.5"
  }
 },
 "nbformat": 4,
 "nbformat_minor": 5
}
