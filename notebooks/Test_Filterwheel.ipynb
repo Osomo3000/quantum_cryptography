{
 "cells": [
  {
   "cell_type": "code",
   "execution_count": null,
   "id": "9bf4eec7-1e96-44b6-812f-7e89abd0e6a3",
   "metadata": {},
   "outputs": [],
   "source": [
    "from qcrypt.hardware.filterwheel import Filterwheel, Orientation\n",
    "\n",
    "broker = \"broker.emqx.io\"\n",
    "\n",
    "filterwheel_alice = Filterwheel(\n",
    "    username=\"alice\", mqtt_broker_ip=broker, dir_pin=17, step_pin=18\n",
    ")\n",
    "filterwheel_bob = Filterwheel(username=\"bob\", mqtt_broker_ip=broker)"
   ]
  },
  {
   "cell_type": "code",
   "execution_count": null,
   "id": "e2e187f7-d227-45fd-ae63-e34518659e39",
   "metadata": {},
   "outputs": [],
   "source": [
    "filterwheel = filterwheel_alice"
   ]
  },
  {
   "cell_type": "code",
   "execution_count": null,
   "id": "7e9e61c7-8840-475b-a317-06570de28f25",
   "metadata": {},
   "outputs": [],
   "source": [
    "filterwheel = filterwheel_bob"
   ]
  },
  {
   "cell_type": "code",
   "execution_count": null,
   "id": "d8a9f5eb-2b1f-44ab-8926-3e1b8a244e14",
   "metadata": {
    "tags": []
   },
   "outputs": [],
   "source": [
    "filterwheel.rotate_to(Orientation.VERTICAL)"
   ]
  },
  {
   "cell_type": "code",
   "execution_count": null,
   "id": "908851d8-afdc-4c9b-a639-ac6a394c692d",
   "metadata": {
    "tags": []
   },
   "outputs": [],
   "source": [
    "filterwheel.rotate_to(Orientation.RIGHT)"
   ]
  },
  {
   "cell_type": "code",
   "execution_count": null,
   "id": "d4071db1-5440-4d9b-8a40-2397bcfdbed9",
   "metadata": {
    "tags": []
   },
   "outputs": [],
   "source": [
    "filterwheel.rotate_to(Orientation.HORIZONTAL)"
   ]
  },
  {
   "cell_type": "code",
   "execution_count": null,
   "id": "8dc24f11-1309-4790-98f3-7802eb1e0180",
   "metadata": {
    "tags": []
   },
   "outputs": [],
   "source": [
    "filterwheel.rotate_to(Orientation.LEFT)"
   ]
  }
 ],
 "metadata": {
  "kernelspec": {
   "display_name": "Python 3",
   "language": "python",
   "name": "python3"
  },
  "language_info": {
   "codemirror_mode": {
    "name": "ipython",
    "version": 3
   },
   "file_extension": ".py",
   "mimetype": "text/x-python",
   "name": "python",
   "nbconvert_exporter": "python",
   "pygments_lexer": "ipython3",
   "version": "3.9.5"
  }
 },
 "nbformat": 4,
 "nbformat_minor": 5
}
