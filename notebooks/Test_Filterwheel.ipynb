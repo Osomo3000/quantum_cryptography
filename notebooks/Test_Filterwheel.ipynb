{
 "cells": [
  {
   "cell_type": "code",
   "execution_count": null,
   "id": "b96e3ada-9b42-4e09-9f18-5f758617024f",
   "metadata": {
    "tags": []
   },
   "outputs": [],
   "source": [
    "from qcrypt.hardware.filterwheel import Filterwheel\n",
    "\n",
    "broker = \"broker.emqx.io\""
   ]
  },
  {
   "cell_type": "code",
   "execution_count": null,
   "id": "9c1df121-649e-42a2-bbe1-f4832738e7ee",
   "metadata": {},
   "outputs": [],
   "source": [
    "filterwheel_alice = Filterwheel(\n",
    "    username=\"alice\", mqtt_broker_ip=broker, dir_pin=17, step_pin=18\n",
    ")\n",
    "filterwheel_bob = Filterwheel(username=\"bob\", mqtt_broker_ip=broker)"
   ]
  },
  {
   "cell_type": "code",
   "execution_count": null,
   "id": "e391701a-c65d-4a64-b08e-28ea3f67b4bb",
   "metadata": {},
   "outputs": [],
   "source": [
    "filterwheel_alice._rotate()"
   ]
  },
  {
   "cell_type": "code",
   "execution_count": null,
   "id": "bbef45a4-48e8-4dbd-b406-4db02751aec2",
   "metadata": {},
   "outputs": [],
   "source": [
    "filterwheel_bob._rotate()"
   ]
  }
 ],
 "metadata": {
  "kernelspec": {
   "display_name": "Python 3",
   "language": "python",
   "name": "python3"
  },
  "language_info": {
   "codemirror_mode": {
    "name": "ipython",
    "version": 3
   },
   "file_extension": ".py",
   "mimetype": "text/x-python",
   "name": "python",
   "nbconvert_exporter": "python",
   "pygments_lexer": "ipython3",
   "version": "3.9.5"
  }
 },
 "nbformat": 4,
 "nbformat_minor": 5
}
