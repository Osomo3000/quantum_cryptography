{
 "cells": [
  {
   "cell_type": "code",
   "execution_count": null,
   "id": "b96e3ada-9b42-4e09-9f18-5f758617024f",
   "metadata": {},
   "outputs": [],
   "source": [
    "from qcrypt.hardware.filterwheel import Filterwheel\n",
    "\n",
    "# Instantiate a Filterwheel\n",
    "filterwheel = Filterwheel()"
   ]
  },
  {
   "cell_type": "code",
   "execution_count": null,
   "id": "9c1df121-649e-42a2-bbe1-f4832738e7ee",
   "metadata": {},
   "outputs": [],
   "source": [
    "# Let it rotate\n",
    "filterwheel.rotate(False, steps=20)"
   ]
  }
 ],
 "metadata": {
  "kernelspec": {
   "display_name": "Python 3",
   "language": "python",
   "name": "python3"
  },
  "language_info": {
   "codemirror_mode": {
    "name": "ipython",
    "version": 3
   },
   "file_extension": ".py",
   "mimetype": "text/x-python",
   "name": "python",
   "nbconvert_exporter": "python",
   "pygments_lexer": "ipython3",
   "version": "3.9.1"
  }
 },
 "nbformat": 4,
 "nbformat_minor": 5
}
