{
 "cells": [
  {
   "cell_type": "code",
   "execution_count": null,
   "id": "f9bfca1c-0f5c-4674-847f-b31c7ae90f84",
   "metadata": {},
   "outputs": [],
   "source": [
    "import serial\n",
    "\n",
    "if __name__ == \"__main__\":\n",
    "    ser = serial.Serial(\"/dev/ttyACM0\", 9600, timeout=1)\n",
    "    ser.flush()\n",
    "    while True:\n",
    "        if ser.in_waiting > 0:\n",
    "            line = ser.readline().decode(\"utf-8\").rstrip()\n",
    "            print(line)"
   ]
  }
 ],
 "metadata": {
  "kernelspec": {
   "display_name": "Python 3",
   "language": "python",
   "name": "python3"
  },
  "language_info": {
   "codemirror_mode": {
    "name": "ipython",
    "version": 3
   },
   "file_extension": ".py",
   "mimetype": "text/x-python",
   "name": "python",
   "nbconvert_exporter": "python",
   "pygments_lexer": "ipython3",
   "version": "3.9.5"
  }
 },
 "nbformat": 4,
 "nbformat_minor": 5
}
