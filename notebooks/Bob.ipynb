{
 "cells": [
  {
   "cell_type": "markdown",
   "id": "c2ee4ae9-9304-4c68-8f5e-b8086ccd4f7d",
   "metadata": {},
   "source": [
    "# Bob\n",
    "\n",
    "* Bob wants to receive a message from Alice.\n",
    "* He can communicate with Alice over an unsecure, classical channel.\n",
    "* They can also communicate over a quantum channel."
   ]
  },
  {
   "cell_type": "markdown",
   "id": "b3ebade1-8410-4ad6-ba80-d4a64c4accc7",
   "metadata": {},
   "source": [
    "Bob establishes a classical channel to Alice. Anyone can listen in:"
   ]
  },
  {
   "cell_type": "markdown",
   "id": "5aa80f1b-a292-46d5-a8ba-5a481bfc2099",
   "metadata": {},
   "source": [
    "# 0. Setup\n",
    "* wait for setup data from Alice"
   ]
  },
  {
   "cell_type": "code",
   "execution_count": null,
   "id": "3083816b-8504-46d6-a9bb-17a7ce526056",
   "metadata": {},
   "outputs": [],
   "source": [
    "import paho.mqtt.client as mqtt\n",
    "import json\n",
    "\n",
    "mqtt_broker_ip = \"broker.emqx.io\"\n",
    "channel = \"quantum_cryptography/classical_channel/#\"\n",
    "\n",
    "client = mqtt.Client()\n",
    "client.connect(mqtt_broker_ip, 1883, 60)\n",
    "# How many bits\n",
    "setup_data = None\n",
    "\n",
    "\n",
    "def on_message_setup(client, userdata, msg):\n",
    "    global setup_data\n",
    "    try:\n",
    "        setup_data = json.loads(msg.payload)\n",
    "        print(\"Bits to Exchange:\", setup_data[\"bits_to_exchange\"])\n",
    "        client.disconnect()\n",
    "    except Exception as e:\n",
    "        print(\"unable to parse json: \", msg.payload, \"\\n\", e)\n",
    "\n",
    "\n",
    "def on_connect(client, userdata, flags, rc):\n",
    "    print(\"Connected with result code \" + str(rc))\n",
    "    client.subscribe(channel)\n",
    "\n",
    "\n",
    "client.on_message = on_message_setup\n",
    "client.on_connect = on_connect\n",
    "\n",
    "_ = client.loop_forever()"
   ]
  },
  {
   "cell_type": "markdown",
   "id": "4ebaf016-5da3-42d1-8a01-c4e6a81741d1",
   "metadata": {},
   "source": [
    "# 3. create list of random polarizations"
   ]
  },
  {
   "cell_type": "code",
   "execution_count": null,
   "id": "24557a62-bddc-4dff-bd50-5f65e5f9915c",
   "metadata": {
    "tags": []
   },
   "outputs": [],
   "source": [
    "from enum import Enum\n",
    "from random import choice\n",
    "\n",
    "\n",
    "class Basis(Enum):\n",
    "    # 0° | or _ 90°:\n",
    "    HV = 0\n",
    "    # -45° \\ or 45° /:\n",
    "    LR = 1\n",
    "\n",
    "\n",
    "bases = list()\n",
    "\n",
    "for i in range(setup_data[\"bits_to_exchange\"]):\n",
    "    bases.append(choice(list(Basis)))\n",
    "\n",
    "for i, b in enumerate(bases):\n",
    "    print(i, b, sep=\"\\t\")"
   ]
  },
  {
   "cell_type": "markdown",
   "id": "3ab1cabe-13b3-4918-94d7-634f3cf0199f",
   "metadata": {},
   "source": [
    "# 4. quantum channel"
   ]
  },
  {
   "cell_type": "code",
   "execution_count": null,
   "id": "96fc0585-9770-445b-9877-12d1b17b388e",
   "metadata": {
    "tags": []
   },
   "outputs": [],
   "source": [
    "from time import sleep\n",
    "from qcrypt.hardware.filterwheel import Filterwheel, Orientation\n",
    "from qcrypt.hardware.lightsensor import Lightsensor\n",
    "import paho.mqtt.client as mqtt\n",
    "\n",
    "broker = \"broker.emqx.io\"\n",
    "channel_laser = \"quantum_cryptography/classical_channel/alice/laser\"\n",
    "\n",
    "client = mqtt.Client()\n",
    "filterwheel = Filterwheel(username=\"bob\", mqtt_broker_ip=broker)\n",
    "lightsensor = Lightsensor()\n",
    "bits = setup_data[\"bits_to_exchange\"]\n",
    "counter = 1  # 1 because it has already been turned once in setup\n",
    "\n",
    "\n",
    "def on_message_quantum(client, userdata, msg):\n",
    "    global counter\n",
    "    print(msg.payload.decode())\n",
    "    print(\"Currently at Bit: \",counter)\n",
    "    if msg.payload.decode() == \"on\":\n",
    "        if counter < bits:\n",
    "            # MEASURE\n",
    "            while True:\n",
    "                x = lightsensor.getHighLow()\n",
    "                if x:\n",
    "                    break\n",
    "            print(x)\n",
    "\n",
    "            # ADJUST FILTERWHEEL ACCORDINGLY\n",
    "            if bases[counter - 1] == Basis.HV:\n",
    "                filterwheel.rotate_to(Orientation.VERTICAL)\n",
    "            if bases[counter - 1] == Basis.LR:\n",
    "                filterwheel.rotate_to(Orientation.LEFT)\n",
    "            counter += 1\n",
    "            # sensor starten\n",
    "\n",
    "\n",
    "            \n",
    "client.connect(broker, 1883, 60)\n",
    "client.subscribe(channel)\n",
    "client.message_callback_add(channel_laser, on_message_quantum)\n",
    "client.loop_forever()"
   ]
  },
  {
   "cell_type": "code",
   "execution_count": null,
   "id": "5fc77e43-de8e-4b9a-811e-01670524c13c",
   "metadata": {},
   "outputs": [],
   "source": []
  }
 ],
 "metadata": {
  "kernelspec": {
   "display_name": "Python 3",
   "language": "python",
   "name": "python3"
  },
  "language_info": {
   "codemirror_mode": {
    "name": "ipython",
    "version": 3
   },
   "file_extension": ".py",
   "mimetype": "text/x-python",
   "name": "python",
   "nbconvert_exporter": "python",
   "pygments_lexer": "ipython3",
   "version": "3.9.5"
  }
 },
 "nbformat": 4,
 "nbformat_minor": 5
}
