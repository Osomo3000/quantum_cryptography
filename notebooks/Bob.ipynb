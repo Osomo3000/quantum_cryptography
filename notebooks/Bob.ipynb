{
 "cells": [
  {
   "cell_type": "markdown",
   "id": "c2ee4ae9-9304-4c68-8f5e-b8086ccd4f7d",
   "metadata": {},
   "source": [
    "# Bob\n",
    "\n",
    "* Bob wants to receive a message from Alice.\n",
    "* He can communicate with Alice over an unsecure, classical channel.\n",
    "* They can also communicate over a quantum channel."
   ]
  },
  {
   "cell_type": "markdown",
   "id": "b3ebade1-8410-4ad6-ba80-d4a64c4accc7",
   "metadata": {},
   "source": [
    "Bob establishes a classical channel to Alice. Anyone can listen in:"
   ]
  },
  {
   "cell_type": "code",
   "execution_count": null,
   "id": "1960f44f-6cae-43db-8531-c31ba2a50e2a",
   "metadata": {
    "tags": []
   },
   "outputs": [],
   "source": [
    "# server = \"broker.emqx.io\"  # fallback server.\n",
    "mqtt_broker_ip = \"broker.emqx.io\"\n",
    "\n",
    "channel = \"quantum_cryptography/classical_channel/#\"\n",
    "\n",
    "import paho.mqtt.client as mqtt\n",
    "\n",
    "# The callback for when the client receives a CONNACK response from the server.\n",
    "def on_connect(client, userdata, flags, rc):\n",
    "    print(\"Connected with result code \" + str(rc))\n",
    "\n",
    "    # Subscribing in on_connect() means that if we lose the connection and\n",
    "    # reconnect then subscriptions will be renewed.\n",
    "    client.subscribe(channel)\n",
    "\n",
    "\n",
    "# The callback for when a PUBLISH message is received from the server.\n",
    "def on_message(client, userdata, msg):\n",
    "    print(\"received:\\t\" + msg.topic + \" \" + str(msg.payload))\n",
    "\n",
    "\n",
    "client = mqtt.Client()\n",
    "client.on_connect = on_connect\n",
    "client.on_message = on_message\n",
    "\n",
    "client.connect(mqtt_broker_ip, 1883, 60)"
   ]
  },
  {
   "cell_type": "markdown",
   "id": "b5b013eb-a70b-4cfd-be39-051d7c27d8d6",
   "metadata": {
    "tags": []
   },
   "source": [
    "**Step 1**: Bob listens for messages from Alice:"
   ]
  },
  {
   "cell_type": "code",
   "execution_count": null,
   "id": "074dec72-2a4e-4f22-8886-998c5f578b0e",
   "metadata": {
    "tags": []
   },
   "outputs": [],
   "source": [
    "client.loop_forever()"
   ]
  },
  {
   "cell_type": "markdown",
   "id": "5aa80f1b-a292-46d5-a8ba-5a481bfc2099",
   "metadata": {},
   "source": [
    "# setup\n",
    "\n",
    "* wait for setup data from Alice"
   ]
  },
  {
   "cell_type": "code",
   "execution_count": null,
   "id": "3083816b-8504-46d6-a9bb-17a7ce526056",
   "metadata": {},
   "outputs": [],
   "source": [
    "import paho.mqtt.client as mqtt\n",
    "import json\n",
    "\n",
    "mqtt_broker_ip = \"broker.emqx.io\"\n",
    "channel = \"quantum_cryptography/classical_channel\"\n",
    "\n",
    "client = mqtt.Client()\n",
    "client.connect(mqtt_broker_ip, 1883, 60)\n",
    "setup_data = None\n",
    "\n",
    "\n",
    "def on_message(client, userdata, msg):\n",
    "    global setup_data\n",
    "    try:\n",
    "        setup_data = json.loads(msg.payload)\n",
    "        client.disconnect()\n",
    "    except:\n",
    "        print(\"unable to parse json: \", msg.payload)\n",
    "\n",
    "\n",
    "def on_connect(client, userdata, flags, rc):\n",
    "    print(\"Connected with result code \" + str(rc))\n",
    "    client.subscribe(channel)\n",
    "\n",
    "\n",
    "client.on_message = on_message\n",
    "client.on_connect = on_connect\n",
    "\n",
    "client.loop_forever()\n",
    "\n",
    "print(setup_data[\"bits_to_exchange\"])"
   ]
  },
  {
   "cell_type": "markdown",
   "id": "3ab1cabe-13b3-4918-94d7-634f3cf0199f",
   "metadata": {},
   "source": [
    "# quantum chnannel"
   ]
  },
  {
   "cell_type": "code",
   "execution_count": null,
   "id": "96fc0585-9770-445b-9877-12d1b17b388e",
   "metadata": {
    "jupyter": {
     "source_hidden": true
    },
    "tags": []
   },
   "outputs": [],
   "source": [
    "from time import sleep\n",
    "from qcrypt.hardware.filterwheel import Filterwheel\n",
    "from qcrypt.hardware.lightsensor import Lightsensor\n",
    "\n",
    "filterwheel = Filterwheel(username=\"Bob\", mqtt_broker_ip=\"broker.emqx.io\")"
   ]
  },
  {
   "cell_type": "code",
   "execution_count": null,
   "id": "1156a79a-0ae7-4820-a00e-693e5f94166e",
   "metadata": {
    "jupyter": {
     "source_hidden": true
    },
    "tags": []
   },
   "outputs": [],
   "source": [
    "filterwheel.rotate()\n",
    "sleep(0.25)\n",
    "filterwheel.rotate(clockwise=False)"
   ]
  }
 ],
 "metadata": {
  "kernelspec": {
   "display_name": "Python 3",
   "language": "python",
   "name": "python3"
  },
  "language_info": {
   "codemirror_mode": {
    "name": "ipython",
    "version": 3
   },
   "file_extension": ".py",
   "mimetype": "text/x-python",
   "name": "python",
   "nbconvert_exporter": "python",
   "pygments_lexer": "ipython3",
   "version": "3.9.5"
  }
 },
 "nbformat": 4,
 "nbformat_minor": 5
}
