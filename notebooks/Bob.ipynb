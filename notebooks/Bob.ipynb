{
 "cells": [
  {
   "cell_type": "markdown",
   "id": "c2ee4ae9-9304-4c68-8f5e-b8086ccd4f7d",
   "metadata": {},
   "source": [
    "# Bob\n",
    "\n",
    "* Bob wants to receive a message from Alice.\n",
    "* He can communicate with Alice over an unsecure, classical channel.\n",
    "* They can also communicate over a quantum channel."
   ]
  },
  {
   "cell_type": "markdown",
   "id": "b3ebade1-8410-4ad6-ba80-d4a64c4accc7",
   "metadata": {},
   "source": [
    "Bob establishes a classical channel to Alice. Anyone can listen in:"
   ]
  },
  {
   "cell_type": "markdown",
   "id": "5aa80f1b-a292-46d5-a8ba-5a481bfc2099",
   "metadata": {},
   "source": [
    "# 0. Setup\n",
    "* wait for setup data from Alice"
   ]
  },
  {
   "cell_type": "code",
   "execution_count": 1,
   "id": "3083816b-8504-46d6-a9bb-17a7ce526056",
   "metadata": {},
   "outputs": [
    {
     "name": "stdout",
     "output_type": "stream",
     "text": [
      "Connected with result code 0\n",
      "Bits to Exchange: 16\n"
     ]
    }
   ],
   "source": [
    "import paho.mqtt.client as mqtt\n",
    "import json\n",
    "\n",
    "mqtt_broker_ip = \"broker.emqx.io\"\n",
    "channel = \"quantum_cryptography/classical_channel/#\"\n",
    "\n",
    "client = mqtt.Client()\n",
    "client.connect(mqtt_broker_ip, 1883, 60)\n",
    "# How many bits\n",
    "setup_data = None\n",
    "\n",
    "\n",
    "def on_message_setup(client, userdata, msg):\n",
    "    global setup_data\n",
    "    try:\n",
    "        setup_data = json.loads(msg.payload)\n",
    "        print(\"Bits to Exchange:\", setup_data[\"bits_to_exchange\"])\n",
    "        client.disconnect()\n",
    "    except Exception as e:\n",
    "        print(\"unable to parse json: \", msg.payload, \"\\n\", e)\n",
    "\n",
    "\n",
    "def on_connect(client, userdata, flags, rc):\n",
    "    print(\"Connected with result code \" + str(rc))\n",
    "    client.subscribe(channel)\n",
    "\n",
    "\n",
    "client.on_message = on_message_setup\n",
    "client.on_connect = on_connect\n",
    "\n",
    "_ = client.loop_forever()"
   ]
  },
  {
   "cell_type": "markdown",
   "id": "4ebaf016-5da3-42d1-8a01-c4e6a81741d1",
   "metadata": {},
   "source": [
    "# 3. create list of random polarizations"
   ]
  },
  {
   "cell_type": "code",
   "execution_count": 2,
   "id": "24557a62-bddc-4dff-bd50-5f65e5f9915c",
   "metadata": {
    "tags": []
   },
   "outputs": [
    {
     "name": "stdout",
     "output_type": "stream",
     "text": [
      "0\tBasis.LR\n",
      "1\tBasis.HV\n",
      "2\tBasis.HV\n",
      "3\tBasis.LR\n",
      "4\tBasis.HV\n",
      "5\tBasis.HV\n",
      "6\tBasis.HV\n",
      "7\tBasis.HV\n",
      "8\tBasis.HV\n",
      "9\tBasis.HV\n",
      "10\tBasis.LR\n",
      "11\tBasis.HV\n",
      "12\tBasis.LR\n",
      "13\tBasis.HV\n",
      "14\tBasis.LR\n",
      "15\tBasis.HV\n"
     ]
    }
   ],
   "source": [
    "from enum import Enum\n",
    "from random import choice\n",
    "\n",
    "\n",
    "class Basis(Enum):\n",
    "    # 0° | or _ 90°:\n",
    "    HV = 0\n",
    "    # -45° \\ or 45° /:\n",
    "    LR = 1\n",
    "\n",
    "\n",
    "bases = list()\n",
    "\n",
    "for i in range(setup_data[\"bits_to_exchange\"]):\n",
    "    bases.append(choice(list(Basis)))\n",
    "\n",
    "for i, b in enumerate(bases):\n",
    "    print(i, b, sep=\"\\t\")"
   ]
  },
  {
   "cell_type": "markdown",
   "id": "3ab1cabe-13b3-4918-94d7-634f3cf0199f",
   "metadata": {},
   "source": [
    "# 4. quantum channel"
   ]
  },
  {
   "cell_type": "code",
   "execution_count": 4,
   "id": "96fc0585-9770-445b-9877-12d1b17b388e",
   "metadata": {
    "tags": []
   },
   "outputs": [
    {
     "name": "stdout",
     "output_type": "stream",
     "text": [
      "establishing connection to lightsensor ..\n",
      "Orientation.VERTICAL --> Orientation.RIGHT\n",
      "rotating left\n"
     ]
    },
    {
     "name": "stderr",
     "output_type": "stream",
     "text": [
      "2021-06-15 13:36:16,313: INFO - bob rotating 50 steps counter-clockwise\n"
     ]
    },
    {
     "name": "stdout",
     "output_type": "stream",
     "text": [
      "on\n",
      "Currently at Bit:  1\n",
      "ser_in_waiting: 30\n",
      "['50', '20\\r\\n']\n",
      "['49', '20\\r\\n']\n",
      "['High', 'High']\n",
      "Orientation.RIGHT --> Orientation.VERTICAL\n",
      "rotating right\n"
     ]
    },
    {
     "name": "stderr",
     "output_type": "stream",
     "text": [
      "2021-06-15 13:36:23,838: INFO - bob rotating 50 steps clockwise\n"
     ]
    },
    {
     "name": "stdout",
     "output_type": "stream",
     "text": [
      "off\n",
      "on\n",
      "Currently at Bit:  2\n",
      "ser_in_waiting: 30\n",
      "['9', '19\\r\\n']\n",
      "['49', '19\\r\\n']\n",
      "['High', 'High']\n",
      "Orientation.VERTICAL --> Orientation.VERTICAL\n",
      "no need to rotate\n",
      "off\n",
      "on\n",
      "Currently at Bit:  3\n",
      "ser_in_waiting: 32\n",
      "['49', '20\\r\\n']\n",
      "['49', '20\\r\\n']\n",
      "['High', 'High']\n",
      "Orientation.VERTICAL --> Orientation.RIGHT\n",
      "rotating left\n"
     ]
    },
    {
     "name": "stderr",
     "output_type": "stream",
     "text": [
      "2021-06-15 13:36:27,854: INFO - bob rotating 50 steps counter-clockwise\n"
     ]
    },
    {
     "name": "stdout",
     "output_type": "stream",
     "text": [
      "off\n",
      "on\n",
      "Currently at Bit:  4\n",
      "ser_in_waiting: 30\n",
      "['50', '19\\r\\n']\n",
      "['49', '20\\r\\n']\n",
      "['High', 'High']\n",
      "Orientation.RIGHT --> Orientation.VERTICAL\n",
      "rotating right\n"
     ]
    },
    {
     "name": "stderr",
     "output_type": "stream",
     "text": [
      "2021-06-15 13:36:29,759: INFO - bob rotating 50 steps clockwise\n"
     ]
    },
    {
     "name": "stdout",
     "output_type": "stream",
     "text": [
      "off\n",
      "on\n",
      "Currently at Bit:  5\n",
      "ser_in_waiting: 30\n",
      "['49', '20\\r\\n']\n",
      "['49', '19\\r\\n']\n",
      "['High', 'High']\n",
      "Orientation.VERTICAL --> Orientation.VERTICAL\n",
      "no need to rotate\n",
      "off\n",
      "on\n",
      "Currently at Bit:  6\n",
      "ser_in_waiting: 32\n",
      "['\\n']\n",
      "['50', '19\\r\\n']\n",
      "['High', 'High']\n",
      "Orientation.VERTICAL --> Orientation.VERTICAL\n",
      "no need to rotate\n",
      "off\n",
      "on\n",
      "Currently at Bit:  7\n",
      "ser_in_waiting: 31\n",
      "['50', '19\\r\\n']\n",
      "['49', '19\\r\\n']\n",
      "['High', 'High']\n",
      "Orientation.VERTICAL --> Orientation.VERTICAL\n",
      "no need to rotate\n",
      "off\n",
      "on\n",
      "Currently at Bit:  8\n",
      "ser_in_waiting: 30\n",
      "['48', '19\\r\\n']\n",
      "['49', '20\\r\\n']\n",
      "['High', 'High']\n",
      "Orientation.VERTICAL --> Orientation.VERTICAL\n",
      "no need to rotate\n",
      "off\n",
      "on\n",
      "Currently at Bit:  9\n",
      "ser_in_waiting: 30\n",
      "['49', '20\\r\\n']\n",
      "['50', '20\\r\\n']\n",
      "['High', 'High']\n",
      "Orientation.VERTICAL --> Orientation.VERTICAL\n",
      "no need to rotate\n",
      "off\n",
      "on\n",
      "Currently at Bit:  10\n",
      "ser_in_waiting: 30\n",
      "['49', '19\\r\\n']\n",
      "['50', '19\\r\\n']\n",
      "['High', 'High']\n",
      "Orientation.VERTICAL --> Orientation.RIGHT\n",
      "rotating left\n"
     ]
    },
    {
     "name": "stderr",
     "output_type": "stream",
     "text": [
      "2021-06-15 13:36:41,909: INFO - bob rotating 50 steps counter-clockwise\n"
     ]
    },
    {
     "name": "stdout",
     "output_type": "stream",
     "text": [
      "off\n",
      "on\n",
      "Currently at Bit:  11\n",
      "ser_in_waiting: 32\n",
      "['49', '19\\r\\n']\n",
      "['49', '20\\r\\n']\n",
      "['High', 'High']\n",
      "Orientation.RIGHT --> Orientation.VERTICAL\n",
      "rotating right\n"
     ]
    },
    {
     "name": "stderr",
     "output_type": "stream",
     "text": [
      "2021-06-15 13:36:43,912: INFO - bob rotating 50 steps clockwise\n"
     ]
    },
    {
     "name": "stdout",
     "output_type": "stream",
     "text": [
      "off\n",
      "on\n",
      "Currently at Bit:  12\n",
      "ser_in_waiting: 32\n",
      "['49', '19\\r\\n']\n",
      "['50', '20\\r\\n']\n",
      "['High', 'High']\n",
      "Orientation.VERTICAL --> Orientation.RIGHT\n",
      "rotating left\n"
     ]
    },
    {
     "name": "stderr",
     "output_type": "stream",
     "text": [
      "2021-06-15 13:36:45,926: INFO - bob rotating 50 steps counter-clockwise\n"
     ]
    },
    {
     "name": "stdout",
     "output_type": "stream",
     "text": [
      "off\n",
      "on\n",
      "Currently at Bit:  13\n",
      "ser_in_waiting: 32\n",
      "['49', '20\\r\\n']\n",
      "['49', '19\\r\\n']\n",
      "['High', 'High']\n",
      "Orientation.RIGHT --> Orientation.VERTICAL\n",
      "rotating right\n"
     ]
    },
    {
     "name": "stderr",
     "output_type": "stream",
     "text": [
      "2021-06-15 13:36:47,929: INFO - bob rotating 50 steps clockwise\n"
     ]
    },
    {
     "name": "stdout",
     "output_type": "stream",
     "text": [
      "off\n",
      "on\n",
      "Currently at Bit:  14\n",
      "ser_in_waiting: 32\n",
      "['49', '19\\r\\n']\n",
      "['50', '19\\r\\n']\n",
      "['High', 'High']\n",
      "Orientation.VERTICAL --> Orientation.RIGHT\n",
      "rotating left\n"
     ]
    },
    {
     "name": "stderr",
     "output_type": "stream",
     "text": [
      "2021-06-15 13:36:49,935: INFO - bob rotating 50 steps counter-clockwise\n"
     ]
    },
    {
     "name": "stdout",
     "output_type": "stream",
     "text": [
      "off\n",
      "on\n",
      "Currently at Bit:  15\n",
      "ser_in_waiting: 31\n",
      "['49', '20\\r\\n']\n",
      "['49', '19\\r\\n']\n",
      "['High', 'High']\n",
      "Orientation.RIGHT --> Orientation.VERTICAL\n",
      "rotating right\n"
     ]
    },
    {
     "name": "stderr",
     "output_type": "stream",
     "text": [
      "2021-06-15 13:36:51,947: INFO - bob rotating 50 steps clockwise\n"
     ]
    },
    {
     "name": "stdout",
     "output_type": "stream",
     "text": [
      "off\n",
      "on\n",
      "Currently at Bit:  16\n",
      "disconnecting ...\n"
     ]
    },
    {
     "data": {
      "text/plain": [
       "7"
      ]
     },
     "execution_count": 4,
     "metadata": {},
     "output_type": "execute_result"
    }
   ],
   "source": [
    "from time import sleep\n",
    "from qcrypt.hardware.filterwheel import Filterwheel, Orientation\n",
    "from qcrypt.hardware.lightsensor import Lightsensor\n",
    "import paho.mqtt.client as mqtt\n",
    "\n",
    "broker = \"broker.emqx.io\"\n",
    "channel_laser = \"quantum_cryptography/classical_channel/alice/laser\"\n",
    "\n",
    "client = mqtt.Client()\n",
    "filterwheel = Filterwheel(username=\"bob\", mqtt_broker_ip=broker)\n",
    "lightsensor = Lightsensor()\n",
    "bits = setup_data[\"bits_to_exchange\"]\n",
    "counter = 0\n",
    "\n",
    "          \n",
    "def get_polarisation_from_basis():\n",
    "    \"\"\"\n",
    "    returns corresponding orientation enum for bob\n",
    "    \"\"\"\n",
    "    if bases[counter] == Basis.HV:\n",
    "        return Orientation.VERTICAL\n",
    "    elif bases[counter] == Basis.LR:\n",
    "        return Orientation.RIGHT\n",
    "    \n",
    "# prepare first orientation\n",
    "filterwheel.rotate_to(get_polarisation_from_basis())\n",
    "counter+=1\n",
    "\n",
    "def on_message_quantum(client, userdata, msg):\n",
    "    global counter\n",
    "    print(msg.payload.decode())\n",
    "    if msg.payload.decode() == \"on\":\n",
    "        print(\"Currently at Bit: \",counter)\n",
    "        if counter < bits:\n",
    "            # MEASURE\n",
    "            while True:\n",
    "                x = lightsensor.getHighLow()\n",
    "                if x:\n",
    "                    break\n",
    "            print(x)\n",
    "\n",
    "            # ADJUST FILTERWHEEL ACCORDINGLY\n",
    "            filterwheel.rotate_to(get_polarisation_from_basis())\n",
    "            counter += 1\n",
    "            # sensor starten\n",
    "        else:\n",
    "            print(\"disconnecting ...\")\n",
    "            client.disconnect()\n",
    "\n",
    "            \n",
    "client.connect(broker, 1883, 60)\n",
    "client.subscribe(channel)\n",
    "client.message_callback_add(channel_laser, on_message_quantum)\n",
    "client.loop_forever()"
   ]
  },
  {
   "cell_type": "code",
   "execution_count": null,
   "id": "5fc77e43-de8e-4b9a-811e-01670524c13c",
   "metadata": {},
   "outputs": [],
   "source": []
  }
 ],
 "metadata": {
  "kernelspec": {
   "display_name": "Python 3",
   "language": "python",
   "name": "python3"
  },
  "language_info": {
   "codemirror_mode": {
    "name": "ipython",
    "version": 3
   },
   "file_extension": ".py",
   "mimetype": "text/x-python",
   "name": "python",
   "nbconvert_exporter": "python",
   "pygments_lexer": "ipython3",
   "version": "3.9.5"
  }
 },
 "nbformat": 4,
 "nbformat_minor": 5
}
