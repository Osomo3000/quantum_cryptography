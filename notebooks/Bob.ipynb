{
 "cells": [
  {
   "cell_type": "markdown",
   "id": "c2ee4ae9-9304-4c68-8f5e-b8086ccd4f7d",
   "metadata": {},
   "source": [
    "# Bob\n",
    "\n",
    "* Bob wants to receive a message from Alice.\n",
    "* He can communicate with Alice over an unsecure, classical channel.\n",
    "* They can also communicate over a quantum channel."
   ]
  },
  {
   "cell_type": "markdown",
   "id": "b3ebade1-8410-4ad6-ba80-d4a64c4accc7",
   "metadata": {},
   "source": [
    "Bob establishes a classical channel to Alice. Anyone can listen in:"
   ]
  },
  {
   "cell_type": "code",
   "execution_count": null,
   "id": "1960f44f-6cae-43db-8531-c31ba2a50e2a",
   "metadata": {},
   "outputs": [],
   "source": [
    "# server = \"broker.emqx.io\"  # fallback server.\n",
    "mqtt_broker_ip = \"localhost\"\n",
    "\n",
    "channel = \"quantum_cryptography/classical_channel\"\n",
    "\n",
    "import paho.mqtt.client as mqtt\n",
    "\n",
    "# The callback for when the client receives a CONNACK response from the server.\n",
    "def on_connect(client, userdata, flags, rc):\n",
    "    print(\"Connected with result code \" + str(rc))\n",
    "\n",
    "    # Subscribing in on_connect() means that if we lose the connection and\n",
    "    # reconnect then subscriptions will be renewed.\n",
    "    client.subscribe(channel)\n",
    "\n",
    "\n",
    "# The callback for when a PUBLISH message is received from the server.\n",
    "def on_message(client, userdata, msg):\n",
    "    print(\"received:\\t\" + msg.topic + \" \" + str(msg.payload))\n",
    "\n",
    "\n",
    "client = mqtt.Client()\n",
    "client.on_connect = on_connect\n",
    "client.on_message = on_message\n",
    "\n",
    "client.connect(mqtt_broker_ip, 1883, 60)"
   ]
  },
  {
   "cell_type": "markdown",
   "id": "b5b013eb-a70b-4cfd-be39-051d7c27d8d6",
   "metadata": {},
   "source": [
    "**Step 1**: Bob listens for messages from Alice:"
   ]
  },
  {
   "cell_type": "code",
   "execution_count": null,
   "id": "074dec72-2a4e-4f22-8886-998c5f578b0e",
   "metadata": {
    "tags": []
   },
   "outputs": [],
   "source": [
    "client.loop_forever()"
   ]
  }
 ],
 "metadata": {
  "kernelspec": {
   "display_name": "Python 3",
   "language": "python",
   "name": "python3"
  },
  "language_info": {
   "codemirror_mode": {
    "name": "ipython",
    "version": 3
   },
   "file_extension": ".py",
   "mimetype": "text/x-python",
   "name": "python",
   "nbconvert_exporter": "python",
   "pygments_lexer": "ipython3",
   "version": "3.9.5"
  }
 },
 "nbformat": 4,
 "nbformat_minor": 5
}
